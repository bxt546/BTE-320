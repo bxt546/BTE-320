{
  "nbformat": 4,
  "nbformat_minor": 0,
  "metadata": {
    "colab": {
      "provenance": [],
      "authorship_tag": "ABX9TyMbP/vNjCbDnwgI+kd1ID1c",
      "include_colab_link": true
    },
    "kernelspec": {
      "name": "python3",
      "display_name": "Python 3"
    },
    "language_info": {
      "name": "python"
    }
  },
  "cells": [
    {
      "cell_type": "markdown",
      "metadata": {
        "id": "view-in-github",
        "colab_type": "text"
      },
      "source": [
        "<a href=\"https://colab.research.google.com/github/bxt546/BTE-320/blob/main/In_Class_Assignments.ipynb\" target=\"_parent\"><img src=\"https://colab.research.google.com/assets/colab-badge.svg\" alt=\"Open In Colab\"/></a>"
      ]
    },
    {
      "cell_type": "code",
      "execution_count": null,
      "metadata": {
        "id": "Gd7fofti-eF-",
        "colab": {
          "base_uri": "https://localhost:8080/"
        },
        "outputId": "785ca13a-f50e-4c8a-b8c3-fb60518a1414"
      },
      "outputs": [
        {
          "output_type": "stream",
          "name": "stdout",
          "text": [
            "Enter sales ($): 12000\n",
            "Enter Cost of Goods (%): 40\n",
            "Cost of Goods sold: $4800.0\n",
            "Gross Profit: $7200.0\n"
          ]
        }
      ],
      "source": [
        "# Inputs: sales ($) and cost of goods pct (%)\n",
        "sales = input(\"Enter sales ($): \")\n",
        "sales = float(sales)\n",
        "\n",
        "cogs_pct = input(\"Enter Cost of Goods (%): \")\n",
        "cogs_pct = float(cogs_pct)\n",
        "\n",
        "# Processes: calculate cost of goods sold and gross profit\n",
        "cogs = sales * (cogs_pct / 100)\n",
        "grossProfit = sales - cogs\n",
        "\n",
        "# Outputs: display cost of goods sold and gross profit\n",
        "print(f\"Cost of Goods sold: ${cogs}\")\n",
        "print(f\"Gross Profit: ${grossProfit}\")"
      ]
    },
    {
      "cell_type": "code",
      "source": [
        "# Inputs: sales ($) and cost of goods pct (%)\n",
        "sales = input(\"Enter sales ($): \")\n",
        "sales = float(sales)\n",
        "\n",
        "cogs_pct = input(\"Enter Cost of Goods (%): \")\n",
        "cogs_pct = float(cogs_pct)\n",
        "\n",
        "\n",
        "tax_rate = input(\"Enter tax rate (%): \")\n",
        "tax_rate = float(tax_rate)\n",
        "\n",
        "# Processes: calculate cost of goods sold and gross profit\n",
        "cogs = sales * (cogs_pct / 100)\n",
        "grossProfit = sales - cogs\n",
        "taxes = grossProfit * (tax_rate / 100)\n",
        "netIncome = grossProfit - taxes\n",
        "\n",
        "# Outputs: display cost of goods sold and gross profit\n",
        "print(f\"Cost of Goods sold: ${cogs}\")\n",
        "print(f\"Gross Profit: ${grossProfit}\")\n",
        "print(f\"Taxes: ${taxes}\")\n",
        "print(f\"Net Income: ${netIncome}\")"
      ],
      "metadata": {
        "colab": {
          "base_uri": "https://localhost:8080/"
        },
        "id": "FdgmeEiyEO_I",
        "outputId": "7873a035-b224-4c9a-ba42-98358e51f11a"
      },
      "execution_count": null,
      "outputs": [
        {
          "output_type": "stream",
          "name": "stdout",
          "text": [
            "Enter sales ($): 12000\n",
            "Enter Cost of Goods (%): 40\n",
            "Enter tax rate (%): 20\n",
            "Cost of Goods sold: $4800.0\n",
            "Gross Profit: $7200.0\n",
            "Taxes: $1440.0\n",
            "Net Income: $5760.0\n"
          ]
        }
      ]
    },
    {
      "cell_type": "code",
      "source": [
        "# Inputs: annual demand (units/year), reorder cost ($/order), and holding cost ($/unit/year)\n",
        "demand = input(\"Enter annual demand (units/year): \")\n",
        "demand = int(demand)\n",
        "\n",
        "ROC = input(\"Enter Reorder Cost ($/order): \")\n",
        "ROC = float(ROC)\n",
        "\n",
        "\n",
        "holding = input(\"Enter holding cost ($/unit/year): \")\n",
        "holding = float(holding)\n",
        "\n",
        "# Processes: calculate Economic Order Quantity (EOQ)\n",
        "EOQ = (2 * demand * ROC / holding) ** 0.5\n",
        "\n",
        "# Outputs: display cost of goods sold and gross profit\n",
        "print(f\"Economic Order Quantity: {EOQ} units\")\n"
      ],
      "metadata": {
        "id": "sZa2Ai_MF6oG",
        "colab": {
          "base_uri": "https://localhost:8080/"
        },
        "outputId": "2fac6478-d6c7-49b0-80c4-8136e8a4397f"
      },
      "execution_count": null,
      "outputs": [
        {
          "output_type": "stream",
          "name": "stdout",
          "text": [
            "Enter annual demand (units/year): 1000\n",
            "Enter Reorder Cost ($/order): 50\n",
            "Enter holding cost ($/unit/year): 10\n",
            "Economic Order Quantity: 100.0 units\n"
          ]
        }
      ]
    },
    {
      "cell_type": "code",
      "source": [
        "# Inputs\n",
        "demand = int(input(\"Enter demand (units/year): \"))\n",
        "reorder = float(input(\"Enter reorder cost ($/unit): \"))\n",
        "holding = float(input(\"Enter holding cost ($/unit/year): \"))\n",
        "\n",
        "# Process\n",
        "eoq = (2 * demand * reorder / holding) ** 0.5\n",
        "\n",
        "# Output\n",
        "print(f\"EOQ: {eoq} units\")"
      ],
      "metadata": {
        "colab": {
          "base_uri": "https://localhost:8080/"
        },
        "id": "1Ch8PVv_p-vw",
        "outputId": "a19460c4-a1a8-408d-8024-b0c38f53df6f"
      },
      "execution_count": null,
      "outputs": [
        {
          "output_type": "stream",
          "name": "stdout",
          "text": [
            "Enter demand (units/year): 1000\n",
            "Enter reorder cost ($/unit): 50\n",
            "Enter holding cost ($/unit/year): 10\n",
            "EOQ: 100.0 units\n"
          ]
        }
      ]
    },
    {
      "cell_type": "code",
      "source": [
        "import math\n",
        "\n",
        "# Inputs\n",
        "demand = int(input(\"Enter demand (units/year): \"))\n",
        "reorder = float(input(\"Enter reorder cost ($/unit): \"))\n",
        "holding = float(input(\"Enter holding cost ($/unit/year): \"))\n",
        "\n",
        "# Process\n",
        "eoq = math.sqrt(2 * demand * reorder / holding)\n",
        "\n",
        "# Output\n",
        "print(f\"EOQ: {eoq} units\")"
      ],
      "metadata": {
        "colab": {
          "base_uri": "https://localhost:8080/"
        },
        "id": "k5amB70zsnv-",
        "outputId": "4ec79d48-185c-4cd2-d8a6-8a3439fe507b"
      },
      "execution_count": null,
      "outputs": [
        {
          "output_type": "stream",
          "name": "stdout",
          "text": [
            "Enter demand (units/year): 1000\n",
            "Enter reorder cost ($/unit): 50\n",
            "Enter holding cost ($/unit/year): 10\n",
            "EOQ: 100.0 units\n"
          ]
        }
      ]
    },
    {
      "cell_type": "code",
      "source": [
        "# Inputs\n",
        "\n",
        "number1 = float(input(\"Enter first number: \"))\n",
        "number2 = float(input(\"Enter second number: \"))\n",
        "operator = input(\"Enter operator (+, -, *, /, //, **, %): \")\n",
        "\n",
        "# Process\n",
        "\n",
        "if operator == \"+\":\n",
        "    output = number1 + number2\n",
        "elif operator == \"-\":\n",
        "    output = number1 - number2\n",
        "elif operator == \"*\":\n",
        "    output = number1 * number2\n",
        "elif operator == \"/\":\n",
        "    output = number1 / number2\n",
        "elif operator == \"//\":\n",
        "    output = number1 // number2\n",
        "elif operator == \"**\":\n",
        "    output = number1 ** number2\n",
        "elif operator == \"%\":\n",
        "    output = number1 % number2\n",
        "else:\n",
        "    output = \"Invalid operator\"\n",
        "\n",
        "# Output\n",
        "\n",
        "print(f\"Answer: {output} \")"
      ],
      "metadata": {
        "colab": {
          "base_uri": "https://localhost:8080/"
        },
        "id": "idiWMuH6pvXX",
        "outputId": "d06d0c05-e151-4bee-e17d-e0765a58cbeb"
      },
      "execution_count": null,
      "outputs": [
        {
          "output_type": "stream",
          "name": "stdout",
          "text": [
            "Enter first number: 16\n",
            "Enter second number: 0.5\n",
            "Enter operator (+, -, *, /, //, **, %): **\n",
            "Answer: 4.0 \n"
          ]
        }
      ]
    },
    {
      "cell_type": "code",
      "source": [
        "for hour in range(1, 9, 1):\n",
        "  print(hour, 5 + 2.5 * hour)\n"
      ],
      "metadata": {
        "id": "DefJLf3osm-3",
        "colab": {
          "base_uri": "https://localhost:8080/"
        },
        "outputId": "399e302a-acce-4df7-fe9f-113b7326279e"
      },
      "execution_count": null,
      "outputs": [
        {
          "output_type": "stream",
          "name": "stdout",
          "text": [
            "1 7.5\n",
            "2 10.0\n",
            "3 12.5\n",
            "4 15.0\n",
            "5 17.5\n",
            "6 20.0\n",
            "7 22.5\n",
            "8 25.0\n"
          ]
        }
      ]
    },
    {
      "cell_type": "code",
      "source": [
        "for hour in range(1, 9):\n",
        "  fee = 5 + 2.5 * hour\n",
        "  print(hour, fee)"
      ],
      "metadata": {
        "colab": {
          "base_uri": "https://localhost:8080/"
        },
        "id": "qZos5inVDHws",
        "outputId": "1181464e-e7a4-4c74-c553-8a1f0313d695"
      },
      "execution_count": null,
      "outputs": [
        {
          "output_type": "stream",
          "name": "stdout",
          "text": [
            "1 7.5\n",
            "2 10.0\n",
            "3 12.5\n",
            "4 15.0\n",
            "5 17.5\n",
            "6 20.0\n",
            "7 22.5\n",
            "8 25.0\n"
          ]
        }
      ]
    },
    {
      "cell_type": "code",
      "source": [
        "for hour in range(1, 9):\n",
        "  fee = 5 + 2.5 * hour\n",
        "\n",
        "  if fee < 10:\n",
        "    fee = 10.0\n",
        "  elif fee > 20:\n",
        "    fee = 20.0\n",
        "\n",
        "  print(hour, fee)"
      ],
      "metadata": {
        "colab": {
          "base_uri": "https://localhost:8080/"
        },
        "id": "D8NWJZJ4CuMS",
        "outputId": "b9adf39c-4179-4d94-a30a-ba8a40b5e1b8"
      },
      "execution_count": null,
      "outputs": [
        {
          "output_type": "stream",
          "name": "stdout",
          "text": [
            "1 10.0\n",
            "2 10.0\n",
            "3 12.5\n",
            "4 15.0\n",
            "5 17.5\n",
            "6 20.0\n",
            "7 20.0\n",
            "8 20.0\n"
          ]
        }
      ]
    },
    {
      "cell_type": "code",
      "source": [
        "for adDollars in range(0, 201, 25):\n",
        "  attendees = 20 + 2 * (adDollars ** 0.5)\n",
        "  profit = 10 * attendees - 200 - adDollars\n",
        "\n",
        "  print(adDollars, profit)"
      ],
      "metadata": {
        "id": "MCCsWUppEIKr",
        "colab": {
          "base_uri": "https://localhost:8080/"
        },
        "outputId": "07447c59-91b5-4bd2-e289-8796eeed233e"
      },
      "execution_count": null,
      "outputs": [
        {
          "output_type": "stream",
          "name": "stdout",
          "text": [
            "0 0.0\n",
            "25 75.0\n",
            "50 91.42135623730951\n",
            "75 98.20508075688781\n",
            "100 100.0\n",
            "125 98.60679774997897\n",
            "150 94.94897427831779\n",
            "175 89.57513110645903\n",
            "200 82.84271247461902\n"
          ]
        }
      ]
    },
    {
      "cell_type": "code",
      "source": [
        "print(\"Ad ($), Profit ($)\")\n",
        "for ad in range(0, 201, 25):\n",
        "  revenue = (20 + 2 * ad ** 0.5) * 10\n",
        "  costs = 200 + ad\n",
        "  profit = revenue - costs\n",
        "  print(ad, round(profit, 1))"
      ],
      "metadata": {
        "colab": {
          "base_uri": "https://localhost:8080/"
        },
        "id": "JZRaEr5hwsUo",
        "outputId": "fb854923-114b-4fc1-de0d-faf0088b6105"
      },
      "execution_count": null,
      "outputs": [
        {
          "output_type": "stream",
          "name": "stdout",
          "text": [
            "Ad ($), Profit ($)\n",
            "0 0.0\n",
            "25 75.0\n",
            "50 91.4\n",
            "75 98.2\n",
            "100 100.0\n",
            "125 98.6\n",
            "150 94.9\n",
            "175 89.6\n",
            "200 82.8\n"
          ]
        }
      ]
    },
    {
      "cell_type": "code",
      "source": [
        "nlist = []\n",
        "number = float(input(\"Give a number: \"))\n",
        "\n",
        "while number != 0:\n",
        "  nlist.append(number)\n",
        "  number = float(input(\"Give another number: \"))\n",
        "\n",
        "print(nlist)\n"
      ],
      "metadata": {
        "colab": {
          "base_uri": "https://localhost:8080/"
        },
        "id": "YYGMVKi-NVjs",
        "outputId": "11f72476-f58d-4844-d178-a0a1c3394ec6"
      },
      "execution_count": null,
      "outputs": [
        {
          "output_type": "stream",
          "name": "stdout",
          "text": [
            "Give a number: 5\n",
            "Give another number: 5\n",
            "Give another number: 4\n",
            "Give another number: 0\n",
            "[5.0, 5.0, 4.0]\n"
          ]
        }
      ]
    },
    {
      "cell_type": "code",
      "source": [
        "numbers = []\n",
        "num = float(input(\"Give a number: \"))\n",
        "\n",
        "while num != 0:\n",
        "  numbers.append(num)\n",
        "  num = float(input(\"Give another number: \"))\n",
        "\n",
        "numbers.sort(reverse=True)\n",
        "print(numbers)"
      ],
      "metadata": {
        "colab": {
          "base_uri": "https://localhost:8080/"
        },
        "id": "GCR3gym1PQQr",
        "outputId": "abc903f6-2f5e-417b-cd19-4ac22751fb13"
      },
      "execution_count": null,
      "outputs": [
        {
          "output_type": "stream",
          "name": "stdout",
          "text": [
            "Give a number: 5\n",
            "Give another number: 2\n",
            "Give another number: 4\n",
            "Give another number: 2\n",
            "Give another number: 0\n",
            "[5.0, 4.0, 2.0, 2.0]\n"
          ]
        }
      ]
    },
    {
      "cell_type": "code",
      "source": [
        "import random\n",
        "\n",
        "print(\"Welcome to Rock, Paper, Scissors!\")\n",
        "\n",
        "# Ask if user wants to start playing\n",
        "play = input(\"Do you want to play? (yes/no): \").lower()\n",
        "\n",
        "while play == \"yes\":\n",
        "    # User choice\n",
        "    user = input(\"Choose rock, paper, or scissors: \").lower()\n",
        "\n",
        "    # Computer choice\n",
        "    computer = random.choice(['rock', 'paper', 'scissors'])\n",
        "    print(f\"Computer chose: {computer}\")\n",
        "\n",
        "    # Determine winner\n",
        "    if user == computer:\n",
        "        print(\"It's a tie!\")\n",
        "    elif (user == \"rock\" and computer == \"scissors\") or \\\n",
        "         (user == \"scissors\" and computer == \"paper\") or \\\n",
        "         (user == \"paper\" and computer == \"rock\"):\n",
        "        print(\"You win!\")\n",
        "    elif user in [\"rock\", \"paper\", \"scissors\"]:\n",
        "        print(\"You lose!\")\n",
        "    else:\n",
        "        print(\"Invalid input. Please choose rock, paper, or scissors.\")\n",
        "\n",
        "    # Ask again\n",
        "    play = input(\"Do you want to play again? (yes/no): \").lower()\n",
        "\n",
        "print(\"Thanks for playing!\")\n"
      ],
      "metadata": {
        "id": "yTLa2bICQCze",
        "colab": {
          "base_uri": "https://localhost:8080/"
        },
        "outputId": "3e2a12a5-ce16-4ef9-c786-3a88593f2e3c"
      },
      "execution_count": null,
      "outputs": [
        {
          "output_type": "stream",
          "name": "stdout",
          "text": [
            "Welcome to Rock, Paper, Scissors!\n",
            "Do you want to play? (yes/no): yes\n",
            "Choose rock, paper, or scissors: rock\n",
            "Computer chose: rock\n",
            "It's a tie!\n",
            "Do you want to play again? (yes/no): yes\n",
            "Choose rock, paper, or scissors: paper\n",
            "Computer chose: scissors\n",
            "You lose!\n",
            "Do you want to play again? (yes/no): yes\n",
            "Choose rock, paper, or scissors: scissors\n",
            "Computer chose: paper\n",
            "You win!\n",
            "Do you want to play again? (yes/no): no\n",
            "Thanks for playing!\n"
          ]
        }
      ]
    },
    {
      "cell_type": "code",
      "source": [
        "(user_choice == 'rock' and pc_choice == 'scissors') or\n",
        "(user_choice == 'scissors' and pc_choice == 'paper') or\n",
        "(user_choice == 'paper' and pc_choice == 'rock')"
      ],
      "metadata": {
        "id": "X6upp-kgHOu9"
      },
      "execution_count": null,
      "outputs": []
    },
    {
      "cell_type": "code",
      "source": [
        "import random\n",
        "\n",
        "while True:\n",
        "\n",
        "  play = input('Do you want to play a game (yes/no)? ').strip().lower()\n",
        "\n",
        "  if play == 'no': # == play != 'yes'\n",
        "    break\n",
        "\n",
        "  # Rock, paper, scissors starts here...\n",
        "  user_choice = input('Choose between rock/paper/scissors: ')\n",
        "  pc_choice = random.choice(['rock', 'paper', 'scissors'])\n",
        "  print(f'User: {user_choice}, Computer: {pc_choice}')\n",
        "\n",
        "  if user_choice == pc_choice:\n",
        "    print('Tie')\n",
        "  elif (\n",
        "      (user_choice == 'rock' and pc_choice == 'scissors') or\n",
        "      (user_choice == 'scissors' and pc_choice == 'paper') or\n",
        "      (user_choice == 'paper' and pc_choice == 'rock')\n",
        "  ):\n",
        "    print('User wins')\n",
        "  else:\n",
        "    print('Computer wins')"
      ],
      "metadata": {
        "id": "zrVKSxcKAfnw",
        "colab": {
          "base_uri": "https://localhost:8080/"
        },
        "outputId": "b94b9b15-dc8d-4492-8762-86eaa6ad2448"
      },
      "execution_count": 1,
      "outputs": [
        {
          "name": "stdout",
          "output_type": "stream",
          "text": [
            "Do you want to play a game (yes/no)? yes\n",
            "Choose between rock/paper/scissors: rock\n",
            "User: rock, Computer: rock\n",
            "Tie\n",
            "Do you want to play a game (yes/no)? no\n"
          ]
        }
      ]
    }
  ]
}